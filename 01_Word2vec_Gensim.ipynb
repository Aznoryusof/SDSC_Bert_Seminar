{
  "nbformat": 4,
  "nbformat_minor": 0,
  "metadata": {
    "colab": {
      "name": "01-Word2vec-Gensim.ipynb",
      "provenance": [],
      "collapsed_sections": [],
      "authorship_tag": "ABX9TyNzH/sY8k1C0Q4w8kkdUUQ0",
      "include_colab_link": true
    },
    "kernelspec": {
      "name": "python3",
      "display_name": "Python 3"
    }
  },
  "cells": [
    {
      "cell_type": "markdown",
      "metadata": {
        "id": "view-in-github",
        "colab_type": "text"
      },
      "source": [
        "<a href=\"https://colab.research.google.com/github/demoleiwang/SDSC_Bert_Seminar/blob/master/01_Word2vec_Gensim.ipynb\" target=\"_parent\"><img src=\"https://colab.research.google.com/assets/colab-badge.svg\" alt=\"Open In Colab\"/></a>"
      ]
    },
    {
      "cell_type": "markdown",
      "metadata": {
        "id": "WI7pPWc5eTs4",
        "colab_type": "text"
      },
      "source": [
        "# A Simple Example for word2vec trained on a small IMDB dataset"
      ]
    },
    {
      "cell_type": "markdown",
      "metadata": {
        "id": "_wf3V48neme8",
        "colab_type": "text"
      },
      "source": [
        "Download the IMDB dataset"
      ]
    },
    {
      "cell_type": "code",
      "metadata": {
        "id": "7qorbpQFehZR",
        "colab_type": "code",
        "colab": {
          "base_uri": "https://localhost:8080/",
          "height": 85
        },
        "outputId": "e073e786-fe89-45ff-daba-746f759c47c0"
      },
      "source": [
        "!gdown --id '1vP1lVYFGTLGHjvST3kSH5pxowd_4DcAe' --output IMDB_Dataset.csv"
      ],
      "execution_count": 1,
      "outputs": [
        {
          "output_type": "stream",
          "text": [
            "Downloading...\n",
            "From: https://drive.google.com/uc?id=1vP1lVYFGTLGHjvST3kSH5pxowd_4DcAe\n",
            "To: /content/IMDB_Dataset.csv\n",
            "66.2MB [00:00, 181MB/s]\n"
          ],
          "name": "stdout"
        }
      ]
    },
    {
      "cell_type": "code",
      "metadata": {
        "id": "lVrFDlrJPAWB",
        "colab_type": "code",
        "colab": {}
      },
      "source": [
        "import pandas as pd"
      ],
      "execution_count": 2,
      "outputs": []
    },
    {
      "cell_type": "markdown",
      "metadata": {
        "id": "ELVAfeZcfo6G",
        "colab_type": "text"
      },
      "source": [
        "## Load Corpus"
      ]
    },
    {
      "cell_type": "markdown",
      "metadata": {
        "id": "Ua2IFHrmfONg",
        "colab_type": "text"
      },
      "source": [
        "Read the dataset with csv format "
      ]
    },
    {
      "cell_type": "code",
      "metadata": {
        "id": "yZ_OscmgO2PO",
        "colab_type": "code",
        "colab": {
          "base_uri": "https://localhost:8080/",
          "height": 34
        },
        "outputId": "88ee769e-a666-4c30-bf65-17c7ce0ee4ef"
      },
      "source": [
        "df = pd.read_csv('./IMDB_Dataset.csv')\n",
        "print (df.shape)"
      ],
      "execution_count": 3,
      "outputs": [
        {
          "output_type": "execute_result",
          "data": {
            "text/plain": [
              "(50000, 2)"
            ]
          },
          "metadata": {
            "tags": []
          },
          "execution_count": 3
        }
      ]
    },
    {
      "cell_type": "code",
      "metadata": {
        "id": "4Ufw90g6ZQM7",
        "colab_type": "code",
        "colab": {
          "base_uri": "https://localhost:8080/",
          "height": 34
        },
        "outputId": "751106f8-9ce7-4b13-e933-31d483ce8388"
      },
      "source": [
        "df = df[0:int(df.shape[0]/5)]\n",
        "print (df.shape)"
      ],
      "execution_count": 4,
      "outputs": [
        {
          "output_type": "execute_result",
          "data": {
            "text/plain": [
              "(10000, 2)"
            ]
          },
          "metadata": {
            "tags": []
          },
          "execution_count": 4
        }
      ]
    },
    {
      "cell_type": "code",
      "metadata": {
        "id": "txSpGe8lO-qJ",
        "colab_type": "code",
        "colab": {
          "base_uri": "https://localhost:8080/",
          "height": 204
        },
        "outputId": "917f713f-4eed-4c3a-9863-10afb430fdc3"
      },
      "source": [
        "df.head()"
      ],
      "execution_count": 5,
      "outputs": [
        {
          "output_type": "execute_result",
          "data": {
            "text/html": [
              "<div>\n",
              "<style scoped>\n",
              "    .dataframe tbody tr th:only-of-type {\n",
              "        vertical-align: middle;\n",
              "    }\n",
              "\n",
              "    .dataframe tbody tr th {\n",
              "        vertical-align: top;\n",
              "    }\n",
              "\n",
              "    .dataframe thead th {\n",
              "        text-align: right;\n",
              "    }\n",
              "</style>\n",
              "<table border=\"1\" class=\"dataframe\">\n",
              "  <thead>\n",
              "    <tr style=\"text-align: right;\">\n",
              "      <th></th>\n",
              "      <th>review</th>\n",
              "      <th>sentiment</th>\n",
              "    </tr>\n",
              "  </thead>\n",
              "  <tbody>\n",
              "    <tr>\n",
              "      <th>0</th>\n",
              "      <td>One of the other reviewers has mentioned that ...</td>\n",
              "      <td>positive</td>\n",
              "    </tr>\n",
              "    <tr>\n",
              "      <th>1</th>\n",
              "      <td>A wonderful little production. &lt;br /&gt;&lt;br /&gt;The...</td>\n",
              "      <td>positive</td>\n",
              "    </tr>\n",
              "    <tr>\n",
              "      <th>2</th>\n",
              "      <td>I thought this was a wonderful way to spend ti...</td>\n",
              "      <td>positive</td>\n",
              "    </tr>\n",
              "    <tr>\n",
              "      <th>3</th>\n",
              "      <td>Basically there's a family where a little boy ...</td>\n",
              "      <td>negative</td>\n",
              "    </tr>\n",
              "    <tr>\n",
              "      <th>4</th>\n",
              "      <td>Petter Mattei's \"Love in the Time of Money\" is...</td>\n",
              "      <td>positive</td>\n",
              "    </tr>\n",
              "  </tbody>\n",
              "</table>\n",
              "</div>"
            ],
            "text/plain": [
              "                                              review sentiment\n",
              "0  One of the other reviewers has mentioned that ...  positive\n",
              "1  A wonderful little production. <br /><br />The...  positive\n",
              "2  I thought this was a wonderful way to spend ti...  positive\n",
              "3  Basically there's a family where a little boy ...  negative\n",
              "4  Petter Mattei's \"Love in the Time of Money\" is...  positive"
            ]
          },
          "metadata": {
            "tags": []
          },
          "execution_count": 5
        }
      ]
    },
    {
      "cell_type": "markdown",
      "metadata": {
        "id": "f0Pz35usfmh2",
        "colab_type": "text"
      },
      "source": [
        "## Pre-procession of dataset"
      ]
    },
    {
      "cell_type": "code",
      "metadata": {
        "id": "t7VKNPpUXQ1G",
        "colab_type": "code",
        "colab": {}
      },
      "source": [
        "import spacy\n",
        "import string"
      ],
      "execution_count": 7,
      "outputs": []
    },
    {
      "cell_type": "code",
      "metadata": {
        "id": "szDUk3-4XPFg",
        "colab_type": "code",
        "colab": {}
      },
      "source": [
        "nlp = spacy.load('en', disable=['ner', 'parser'])"
      ],
      "execution_count": 8,
      "outputs": []
    },
    {
      "cell_type": "code",
      "metadata": {
        "id": "pIV72oViXYDj",
        "colab_type": "code",
        "colab": {}
      },
      "source": [
        "def cleaning(doc):\n",
        "    # Lemmatizes and removes stopwords\n",
        "    txt = [token.lemma_ for token in doc if (not token.is_stop) and (token.lemma_ not in string.punctuation)]\n",
        "    # filter out very short sentences\n",
        "    if len(txt) > 2:\n",
        "        return ' '.join(txt)"
      ],
      "execution_count": 9,
      "outputs": []
    },
    {
      "cell_type": "code",
      "metadata": {
        "id": "vs13YEUoPF4R",
        "colab_type": "code",
        "colab": {}
      },
      "source": [
        "sents = [row.lower() for row in df['review']]"
      ],
      "execution_count": 10,
      "outputs": []
    },
    {
      "cell_type": "code",
      "metadata": {
        "id": "iGZcD5BFYIOa",
        "colab_type": "code",
        "colab": {}
      },
      "source": [
        "from time import time"
      ],
      "execution_count": 11,
      "outputs": []
    },
    {
      "cell_type": "code",
      "metadata": {
        "id": "xcd11dRsX1WO",
        "colab_type": "code",
        "colab": {
          "base_uri": "https://localhost:8080/",
          "height": 34
        },
        "outputId": "3196c767-a122-4787-a3f1-2b7e411cc041"
      },
      "source": [
        "start = time()\n",
        "txt = [cleaning(doc) for doc in nlp.pipe(sents, batch_size=1000, n_threads=-1)]\n",
        "print('Time to pre-process sentences: {} mins'.format(round((time() - start) / 60, 2)))"
      ],
      "execution_count": 12,
      "outputs": [
        {
          "output_type": "stream",
          "text": [
            "Time to pre-process sentences: 1.65 mins\n"
          ],
          "name": "stdout"
        }
      ]
    },
    {
      "cell_type": "code",
      "metadata": {
        "id": "2t4YhFCXYi2S",
        "colab_type": "code",
        "colab": {
          "base_uri": "https://localhost:8080/",
          "height": 54
        },
        "outputId": "ee7ffadb-cd03-43ad-85d4-300062ff91b6"
      },
      "source": [
        "print (txt[0])"
      ],
      "execution_count": 13,
      "outputs": [
        {
          "output_type": "stream",
          "text": [
            "reviewer mention watch 1 oz episode hook right exactly happen me.<br /><br />the thing strike oz brutality unflinche scene violence set right word trust faint hearted timid pull punch regard drug sex violence hardcore classic use word.<br /><br />it call oz nickname give oswald maximum security state penitentary focus mainly emerald city experimental section prison cell glass front face inward privacy high agenda -PRON- city home .. aryan muslims gangstas latinos christians italians irish .... scuffle death stare dodgy dealing shady agreement far away.<br /><br />i main appeal fact go show dare forget pretty picture paint mainstream audience forget charm forget romance ... oz mess episode see strike nasty surreal ready watch develop taste oz get accustomed high level graphic violence violence injustice crooked guard sell nickel inmate kill order away mannered middle class inmate turn prison bitch lack street skill prison experience watch oz comfortable uncomfortable view .... that touch dark\n"
          ],
          "name": "stdout"
        }
      ]
    },
    {
      "cell_type": "code",
      "metadata": {
        "id": "G_BIwX3JYZ-E",
        "colab_type": "code",
        "colab": {}
      },
      "source": [
        "sentences = [row.split() for row in txt]"
      ],
      "execution_count": 14,
      "outputs": []
    },
    {
      "cell_type": "code",
      "metadata": {
        "id": "8LMIaJIuWrit",
        "colab_type": "code",
        "colab": {}
      },
      "source": [
        "from collections import defaultdict"
      ],
      "execution_count": 15,
      "outputs": []
    },
    {
      "cell_type": "markdown",
      "metadata": {
        "id": "KopVQrzzf2ZV",
        "colab_type": "text"
      },
      "source": [
        "Observe top-k frequent words"
      ]
    },
    {
      "cell_type": "code",
      "metadata": {
        "id": "6gNPMFwgV4ap",
        "colab_type": "code",
        "colab": {
          "base_uri": "https://localhost:8080/",
          "height": 34
        },
        "outputId": "cc82c974-23a8-43fc-9987-d6bc6389ca00"
      },
      "source": [
        "word_freq = defaultdict(int)\n",
        "for sent in sentences:\n",
        "    for i in sent:\n",
        "        word_freq[i] += 1\n",
        "print (len(word_freq))\n"
      ],
      "execution_count": 16,
      "outputs": [
        {
          "output_type": "stream",
          "text": [
            "57810\n"
          ],
          "name": "stdout"
        }
      ]
    },
    {
      "cell_type": "code",
      "metadata": {
        "id": "ZWwdKqh3cH5z",
        "colab_type": "code",
        "colab": {
          "base_uri": "https://localhost:8080/",
          "height": 54
        },
        "outputId": "907f9cbd-ff32-49da-a359-a91322adbe33"
      },
      "source": [
        "print (sorted(word_freq, key=word_freq.get, reverse=True)[:100])"
      ],
      "execution_count": 17,
      "outputs": [
        {
          "output_type": "stream",
          "text": [
            "['/><br', 'movie', 'film', 'like', 'good', 'time', 'character', 'watch', 'bad', 'story', 'see', 'think', 'scene', 'great', 'look', '...', 'know', 'people', 'go', 'get', 'come', 'way', 'play', 'love', 'thing', 'br', '/>the', 'find', 'man', 'end', 'life', 'work', 'plot', 'actor', 'little', 'make', 'want', 'year', 'try', 'feel', 'give', 'take', 'director', 'real', 'old', 'lot', 'acting', 'performance', 'woman', 'show', 'funny', 'guy', 'big', 'tell', 'say', 'well', 'actually', 'new', 'leave', 'star', 'young', 'act', 'girl', '/>i', 'role', 'point', 'day', '--', 'start', 'turn', 'pretty', 'cast', 'horror', 'long', 'world', 'comedy', 'minute', 'fact', 'set', 'action', 'kill', 'right', 'line', 'need', 'script', 'happen', 'fan', 'friend', 'original', 'bit', 'music', 'family', 'interesting', 'write', 'series', 'enjoy', 'laugh', 'kid', 'live', 'effect']\n"
          ],
          "name": "stdout"
        }
      ]
    },
    {
      "cell_type": "code",
      "metadata": {
        "id": "1Tf15oMpWlqC",
        "colab_type": "code",
        "colab": {}
      },
      "source": [
        "import multiprocessing"
      ],
      "execution_count": 18,
      "outputs": []
    },
    {
      "cell_type": "code",
      "metadata": {
        "id": "wheO00HEcONp",
        "colab_type": "code",
        "colab": {
          "base_uri": "https://localhost:8080/",
          "height": 34
        },
        "outputId": "7cde561f-08a2-4194-acd6-ce03d69d2ff1"
      },
      "source": [
        "cores = multiprocessing.cpu_count()\n",
        "print (cores)"
      ],
      "execution_count": 19,
      "outputs": [
        {
          "output_type": "stream",
          "text": [
            "2\n"
          ],
          "name": "stdout"
        }
      ]
    },
    {
      "cell_type": "markdown",
      "metadata": {
        "id": "rov3wGUOgIYv",
        "colab_type": "text"
      },
      "source": [
        "## Model"
      ]
    },
    {
      "cell_type": "markdown",
      "metadata": {
        "id": "3O51QFyFgHSZ",
        "colab_type": "text"
      },
      "source": [
        "Call word2vec from gensim"
      ]
    },
    {
      "cell_type": "code",
      "metadata": {
        "id": "QOhBvPvIcUr9",
        "colab_type": "code",
        "colab": {}
      },
      "source": [
        "from gensim.models import Word2Vec"
      ],
      "execution_count": 20,
      "outputs": []
    },
    {
      "cell_type": "code",
      "metadata": {
        "id": "-607CmykcfYW",
        "colab_type": "code",
        "colab": {}
      },
      "source": [
        "w2v_model = Word2Vec(min_count=10,\n",
        "                     window=2,\n",
        "                     size=300,\n",
        "                     sample=6e-5, \n",
        "                     alpha=0.03, \n",
        "                     min_alpha=0.0007, \n",
        "                     negative=20,\n",
        "                     workers=cores-1)"
      ],
      "execution_count": 21,
      "outputs": []
    },
    {
      "cell_type": "code",
      "metadata": {
        "id": "OthpioMzchXP",
        "colab_type": "code",
        "colab": {
          "base_uri": "https://localhost:8080/",
          "height": 34
        },
        "outputId": "ed525a50-fe46-4209-9c42-2cba278ac386"
      },
      "source": [
        "start = time()\n",
        "\n",
        "w2v_model.build_vocab(sentences, progress_per=10000)\n",
        "\n",
        "print('Time to build vocab: {} mins'.format(round((time() - start) / 60, 2)))"
      ],
      "execution_count": 22,
      "outputs": [
        {
          "output_type": "stream",
          "text": [
            "Time to build vocab: 0.04 mins\n"
          ],
          "name": "stdout"
        }
      ]
    },
    {
      "cell_type": "markdown",
      "metadata": {
        "id": "MkwT7DTPgLjB",
        "colab_type": "text"
      },
      "source": [
        "Train"
      ]
    },
    {
      "cell_type": "code",
      "metadata": {
        "id": "Bv3zS1hRcuLs",
        "colab_type": "code",
        "colab": {
          "base_uri": "https://localhost:8080/",
          "height": 34
        },
        "outputId": "8bfd8ce8-2e01-4315-9d33-01e1c25b8e93"
      },
      "source": [
        "start = time()\n",
        "\n",
        "w2v_model.train(sentences, total_examples=w2v_model.corpus_count, epochs=30, report_delay=1)\n",
        "\n",
        "print('Time to train the model: {} mins'.format(round((time() - start) / 60, 2)))"
      ],
      "execution_count": 23,
      "outputs": [
        {
          "output_type": "stream",
          "text": [
            "Time to train the model: 2.64 mins\n"
          ],
          "name": "stdout"
        }
      ]
    },
    {
      "cell_type": "markdown",
      "metadata": {
        "id": "EALf0s4bgRCl",
        "colab_type": "text"
      },
      "source": [
        "## Examples"
      ]
    },
    {
      "cell_type": "markdown",
      "metadata": {
        "id": "SDJpEZhCgM6k",
        "colab_type": "text"
      },
      "source": [
        "Find the most similar words "
      ]
    },
    {
      "cell_type": "code",
      "metadata": {
        "id": "OKV02NO5dAl6",
        "colab_type": "code",
        "colab": {
          "base_uri": "https://localhost:8080/",
          "height": 241
        },
        "outputId": "8e93bd86-9a43-4e09-8d10-2366ed079439"
      },
      "source": [
        "w2v_model.wv.most_similar(positive=[\"film\"])"
      ],
      "execution_count": 24,
      "outputs": [
        {
          "output_type": "stream",
          "text": [
            "/usr/local/lib/python3.6/dist-packages/gensim/matutils.py:737: FutureWarning: Conversion of the second argument of issubdtype from `int` to `np.signedinteger` is deprecated. In future, it will be treated as `np.int64 == np.dtype(int).type`.\n",
            "  if np.issubdtype(vec.dtype, np.int):\n"
          ],
          "name": "stderr"
        },
        {
          "output_type": "execute_result",
          "data": {
            "text/plain": [
              "[('movie', 0.5889053344726562),\n",
              " ('anthology', 0.5001554489135742),\n",
              " ('rushed', 0.4788359999656677),\n",
              " ('mislead', 0.4755280017852783),\n",
              " ('drawback', 0.4727940857410431),\n",
              " ('mishmash', 0.46440500020980835),\n",
              " ('undeniably', 0.46284446120262146),\n",
              " ('rewarding', 0.4603988528251648),\n",
              " ('beginning.<br', 0.45827949047088623),\n",
              " ('movies.<br', 0.4580785632133484)]"
            ]
          },
          "metadata": {
            "tags": []
          },
          "execution_count": 24
        }
      ]
    },
    {
      "cell_type": "code",
      "metadata": {
        "id": "H9JjudWxdGOn",
        "colab_type": "code",
        "colab": {
          "base_uri": "https://localhost:8080/",
          "height": 241
        },
        "outputId": "1ad7b745-afaa-43fc-ab7a-630028582da7"
      },
      "source": [
        "w2v_model.wv.most_similar(positive=[\"great\"])"
      ],
      "execution_count": 25,
      "outputs": [
        {
          "output_type": "stream",
          "text": [
            "/usr/local/lib/python3.6/dist-packages/gensim/matutils.py:737: FutureWarning: Conversion of the second argument of issubdtype from `int` to `np.signedinteger` is deprecated. In future, it will be treated as `np.int64 == np.dtype(int).type`.\n",
            "  if np.issubdtype(vec.dtype, np.int):\n"
          ],
          "name": "stderr"
        },
        {
          "output_type": "execute_result",
          "data": {
            "text/plain": [
              "[('excellent', 0.5910580158233643),\n",
              " ('good', 0.5851525664329529),\n",
              " ('wonderful', 0.571022629737854),\n",
              " ('fine', 0.5555368661880493),\n",
              " ('amazing', 0.499137282371521),\n",
              " ('ensemble', 0.49768131971359253),\n",
              " ('terrific', 0.47103047370910645),\n",
              " ('notch', 0.4619970917701721),\n",
              " ('incredible', 0.4571254551410675),\n",
              " ('uplift', 0.4567105770111084)]"
            ]
          },
          "metadata": {
            "tags": []
          },
          "execution_count": 25
        }
      ]
    },
    {
      "cell_type": "code",
      "metadata": {
        "id": "VtAMNdjUdJnQ",
        "colab_type": "code",
        "colab": {
          "base_uri": "https://localhost:8080/",
          "height": 241
        },
        "outputId": "da3e30a5-4fbf-4bc1-9ad9-569c940ebf91"
      },
      "source": [
        "w2v_model.wv.most_similar(positive=[\"bad\"])"
      ],
      "execution_count": 32,
      "outputs": [
        {
          "output_type": "stream",
          "text": [
            "/usr/local/lib/python3.6/dist-packages/gensim/matutils.py:737: FutureWarning: Conversion of the second argument of issubdtype from `int` to `np.signedinteger` is deprecated. In future, it will be treated as `np.int64 == np.dtype(int).type`.\n",
            "  if np.issubdtype(vec.dtype, np.int):\n"
          ],
          "name": "stderr"
        },
        {
          "output_type": "execute_result",
          "data": {
            "text/plain": [
              "[('terrible', 0.6058905124664307),\n",
              " (\"it's\", 0.5963342189788818),\n",
              " ('awful', 0.5849742889404297),\n",
              " ('good', 0.5650036334991455),\n",
              " ('embarrassingly', 0.5620014667510986),\n",
              " ('stink', 0.5584094524383545),\n",
              " ('atrocious', 0.5563165545463562),\n",
              " ('/>bad', 0.5522723197937012),\n",
              " ('horrible', 0.5477124452590942),\n",
              " ('horrid', 0.5449392199516296)]"
            ]
          },
          "metadata": {
            "tags": []
          },
          "execution_count": 32
        }
      ]
    },
    {
      "cell_type": "code",
      "metadata": {
        "id": "E6yOFuIYdPhL",
        "colab_type": "code",
        "colab": {
          "base_uri": "https://localhost:8080/",
          "height": 241
        },
        "outputId": "17cad47e-3c0c-4f44-bd12-89dad96ab5d9"
      },
      "source": [
        "w2v_model.wv.most_similar(positive=[\"interesting\"])"
      ],
      "execution_count": 33,
      "outputs": [
        {
          "output_type": "stream",
          "text": [
            "/usr/local/lib/python3.6/dist-packages/gensim/matutils.py:737: FutureWarning: Conversion of the second argument of issubdtype from `int` to `np.signedinteger` is deprecated. In future, it will be treated as `np.int64 == np.dtype(int).type`.\n",
            "  if np.issubdtype(vec.dtype, np.int):\n"
          ],
          "name": "stderr"
        },
        {
          "output_type": "execute_result",
          "data": {
            "text/plain": [
              "[('fascinating', 0.5521016120910645),\n",
              " ('plausible', 0.5142442584037781),\n",
              " ('potentially', 0.5137043595314026),\n",
              " ('intriguing', 0.5026283264160156),\n",
              " ('riveting', 0.5024534463882446),\n",
              " ('promising', 0.5011600255966187),\n",
              " ('rushed', 0.49501514434814453),\n",
              " ('plotline', 0.48673373460769653),\n",
              " ('exciting', 0.4854947030544281),\n",
              " ('cohesive', 0.4826468527317047)]"
            ]
          },
          "metadata": {
            "tags": []
          },
          "execution_count": 33
        }
      ]
    },
    {
      "cell_type": "code",
      "metadata": {
        "id": "EpsMP12AdfE6",
        "colab_type": "code",
        "colab": {
          "base_uri": "https://localhost:8080/",
          "height": 241
        },
        "outputId": "d423cb37-eafa-4e57-ba72-310a76b8203d"
      },
      "source": [
        "w2v_model.wv.most_similar(positive=[\"role\"])"
      ],
      "execution_count": 35,
      "outputs": [
        {
          "output_type": "stream",
          "text": [
            "/usr/local/lib/python3.6/dist-packages/gensim/matutils.py:737: FutureWarning: Conversion of the second argument of issubdtype from `int` to `np.signedinteger` is deprecated. In future, it will be treated as `np.int64 == np.dtype(int).type`.\n",
            "  if np.issubdtype(vec.dtype, np.int):\n"
          ],
          "name": "stderr"
        },
        {
          "output_type": "execute_result",
          "data": {
            "text/plain": [
              "[('actress', 0.5281485319137573),\n",
              " ('deol', 0.5038964748382568),\n",
              " ('purdom', 0.5031288862228394),\n",
              " ('neeson', 0.5002285242080688),\n",
              " ('actor', 0.495933473110199),\n",
              " ('danes', 0.48791512846946716),\n",
              " ('leading', 0.48751896619796753),\n",
              " ('reprise', 0.4852789640426636),\n",
              " ('pamela', 0.4844309389591217),\n",
              " ('natasha', 0.4792976677417755)]"
            ]
          },
          "metadata": {
            "tags": []
          },
          "execution_count": 35
        }
      ]
    },
    {
      "cell_type": "code",
      "metadata": {
        "id": "ZYViRBxVdhJr",
        "colab_type": "code",
        "colab": {
          "base_uri": "https://localhost:8080/",
          "height": 241
        },
        "outputId": "660b745a-a192-417d-cc71-4109dcb8933a"
      },
      "source": [
        "w2v_model.wv.most_similar(positive=[\"story\"])"
      ],
      "execution_count": 36,
      "outputs": [
        {
          "output_type": "stream",
          "text": [
            "/usr/local/lib/python3.6/dist-packages/gensim/matutils.py:737: FutureWarning: Conversion of the second argument of issubdtype from `int` to `np.signedinteger` is deprecated. In future, it will be treated as `np.int64 == np.dtype(int).type`.\n",
            "  if np.issubdtype(vec.dtype, np.int):\n"
          ],
          "name": "stderr"
        },
        {
          "output_type": "execute_result",
          "data": {
            "text/plain": [
              "[('plot', 0.5535306930541992),\n",
              " ('tale', 0.5447912216186523),\n",
              " ('storyline', 0.5088076591491699),\n",
              " ('cohesive', 0.5021694898605347),\n",
              " ('plotline', 0.48602330684661865),\n",
              " ('enchanting', 0.48469215631484985),\n",
              " ('intricate', 0.4772065281867981),\n",
              " ('developed', 0.47224918007850647),\n",
              " ('retelling', 0.4704653024673462),\n",
              " ('engross', 0.467024028301239)]"
            ]
          },
          "metadata": {
            "tags": []
          },
          "execution_count": 36
        }
      ]
    },
    {
      "cell_type": "code",
      "metadata": {
        "id": "bDJP9iQhgpPs",
        "colab_type": "code",
        "colab": {}
      },
      "source": [
        ""
      ],
      "execution_count": null,
      "outputs": []
    }
  ]
}